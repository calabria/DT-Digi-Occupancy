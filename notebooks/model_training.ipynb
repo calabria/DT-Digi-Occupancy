{
 "cells": [
  {
   "cell_type": "markdown",
   "metadata": {},
   "source": [
    "# Drift Tubes Digi Occupancy Anomaly Problem"
   ]
  },
  {
   "cell_type": "code",
   "execution_count": 1,
   "metadata": {
    "collapsed": false
   },
   "outputs": [],
   "source": [
    "import math\n",
    "import numpy as np\n",
    "import pandas as pd\n",
    "from sklearn.model_selection import train_test_split\n",
    "\n",
    "rng = np.random.RandomState(42)"
   ]
  },
  {
   "cell_type": "markdown",
   "metadata": {},
   "source": [
    "Load occupancy data to the dataframe"
   ]
  },
  {
   "cell_type": "code",
   "execution_count": 2,
   "metadata": {
    "collapsed": false
   },
   "outputs": [],
   "source": [
    "runs = [273158, 273730, 274388, 274422, 274968, 274969, 275310, 275311,\n",
    "        275847, 275890, 276244, 276283, 276384, 276587, 276775, 276776,\n",
    "        276950, 278509, 278820, 278822, 279694, 279766, 279794, 280018,\n",
    "        281693, 281727, 281976, 282735, 282814, 276582, 272011, 272012,\n",
    "        272014, 272017, 272021, 272774, 284044, 284043, 284042, 284041]\n",
    "\n",
    "drift_tubes_layers = pd.DataFrame()\n",
    "\n",
    "for run in runs:\n",
    "    path = \"../data/%s.json\" % run\n",
    "    drift_tubes_layers = drift_tubes_layers.append(pd.read_json(path), ignore_index=True);"
   ]
  },
  {
   "cell_type": "markdown",
   "metadata": {},
   "source": [
    "Append score from labels file"
   ]
  },
  {
   "cell_type": "code",
   "execution_count": 3,
   "metadata": {
    "collapsed": false
   },
   "outputs": [],
   "source": [
    "labels_frame = pd.read_csv('../data/labels.csv',\n",
    "                           names=['wheel', 'station', 'sector', 'run', 'layer', 'score'])\n",
    "\n",
    "def apply_score(layer):\n",
    "    score = labels_frame[(labels_frame.wheel == layer.wheel) &\n",
    "                         (labels_frame.station == layer.station) &\n",
    "                         (labels_frame.sector == layer.sector) &\n",
    "                         (labels_frame.run == layer.run) &\n",
    "                         (labels_frame.layer == layer.layer)].score.values\n",
    "    if not len(score):\n",
    "        return np.nan\n",
    "    return score[0]\n",
    "\n",
    "drift_tubes_layers['score'] = drift_tubes_layers.apply(apply_score, axis=1);"
   ]
  },
  {
   "cell_type": "markdown",
   "metadata": {},
   "source": [
    "Use the supervised approach"
   ]
  },
  {
   "cell_type": "code",
   "execution_count": 4,
   "metadata": {
    "collapsed": false
   },
   "outputs": [],
   "source": [
    "drift_tubes_layers = drift_tubes_layers[~np.isnan(drift_tubes_layers.score)]"
   ]
  },
  {
   "cell_type": "markdown",
   "metadata": {},
   "source": [
    "Rescale and reshape the samples"
   ]
  },
  {
   "cell_type": "code",
   "execution_count": 5,
   "metadata": {
    "collapsed": true
   },
   "outputs": [],
   "source": [
    "def smooth_reshape_occupancy(layer):\n",
    "    target_size = 47\n",
    "    layer = np.array(eval(layer)) \n",
    "    Y = []\n",
    "    stop = 0\n",
    "    step = len(layer)/float(target_size)\n",
    "\n",
    "    for i in range(target_size):\n",
    "        hook = math.floor(stop)\n",
    "        stop = step + stop\n",
    "        mean = np.median(layer[int(hook) : int(math.ceil(stop))])\n",
    "        Y.append(mean)\n",
    "    return Y\n",
    "\n",
    "def scale_occupancy(layer):\n",
    "    denominator = np.max(layer)\n",
    "    if denominator:\n",
    "        return layer/denominator\n",
    "    return layer\n",
    "\n",
    "drift_tubes_layers['content'] = drift_tubes_layers['content'].apply(smooth_reshape_occupancy)\n",
    "drift_tubes_layers['content'] = drift_tubes_layers['content'].apply(scale_occupancy)"
   ]
  },
  {
   "cell_type": "markdown",
   "metadata": {},
   "source": [
    "Split the dataset"
   ]
  },
  {
   "cell_type": "code",
   "execution_count": 6,
   "metadata": {
    "collapsed": true
   },
   "outputs": [],
   "source": [
    "drift_tubes_layers['score'] = -(2*drift_tubes_layers['score']-1)"
   ]
  },
  {
   "cell_type": "code",
   "execution_count": 7,
   "metadata": {
    "collapsed": false
   },
   "outputs": [
    {
     "name": "stdout",
     "output_type": "stream",
     "text": [
      "509 faults and 4659 good samples. In total: 5168.\n"
     ]
    }
   ],
   "source": [
    "anomalies = drift_tubes_layers[drift_tubes_layers.score == 1]\n",
    "normalies = drift_tubes_layers[drift_tubes_layers.score == -1]\n",
    "print(\"%s faults and %s good samples. In total: %s.\" %\n",
    "      (len(anomalies), len(normalies), len(anomalies) + len(normalies)))\n",
    "\n",
    "anomalies_train, anomalies_test = train_test_split(anomalies, test_size = 0.2, random_state=rng)\n",
    "normalies_train, normalies_test = train_test_split(normalies, test_size = 0.2, random_state=rng)\n",
    "\n",
    "layers_train = pd.concat([anomalies_train, normalies_train])\n",
    "layers_test = pd.concat([anomalies_test, normalies_test])"
   ]
  },
  {
   "cell_type": "markdown",
   "metadata": {},
   "source": [
    "Train and test the CNN:"
   ]
  },
  {
   "cell_type": "code",
   "execution_count": 8,
   "metadata": {
    "collapsed": false
   },
   "outputs": [
    {
     "name": "stderr",
     "output_type": "stream",
     "text": [
      "Using TensorFlow backend.\n"
     ]
    }
   ],
   "source": [
    "import tensorflow as tf\n",
    "sess = tf.Session()\n",
    "\n",
    "from keras import backend as K\n",
    "K.set_session(sess)\n",
    "\n",
    "import keras\n",
    "from keras.models import Sequential\n",
    "from keras.layers import Dense, Flatten, Reshape, Conv1D, MaxPooling1D, InputLayer"
   ]
  },
  {
   "cell_type": "code",
   "execution_count": 9,
   "metadata": {
    "collapsed": true
   },
   "outputs": [],
   "source": [
    "def cnn_generate_input():\n",
    "    train_x = []\n",
    "    train_y = []\n",
    "    test_x = []\n",
    "\n",
    "    for _, row in layers_train.iterrows():\n",
    "        train_x.append(np.asarray(row.content))\n",
    "        if (row.score == -1):\n",
    "            train_y.append(np.asarray([1, 0]))\n",
    "        else:\n",
    "            train_y.append(np.asarray([0, 1]))\n",
    "        \n",
    "    for _, row in layers_test.iterrows():\n",
    "        test_x.append(np.asarray(row.content))\n",
    "\n",
    "    return train_x, train_y, test_x"
   ]
  },
  {
   "cell_type": "code",
   "execution_count": 10,
   "metadata": {
    "collapsed": false
   },
   "outputs": [],
   "source": [
    "def build_cnn():\n",
    "    model = Sequential()\n",
    "    model.add(InputLayer((47,), name='input'))\n",
    "    model.add(Reshape((-1, 47,), input_shape=(47,)))\n",
    "    model.add(Conv1D(5, 5, strides=1, padding='same', activation='relu', input_shape=(47,)))\n",
    "    model.add(MaxPooling1D(pool_size=5, strides=5, padding='same'))\n",
    "    model.add(Flatten())\n",
    "    model.add(Dense(128, activation='relu'))\n",
    "    model.add(Dense(2, activation='softmax', name='output'))\n",
    "    return model\n",
    "\n",
    "def train_cnn(model, x, y, batch_size, class_weight):\n",
    "    model.compile(loss=keras.losses.categorical_crossentropy, optimizer='Nadam')\n",
    "    model.fit(x, y, batch_size=batch_size, epochs=1000, verbose=0, class_weight=class_weight)\n",
    "    return model"
   ]
  },
  {
   "cell_type": "code",
   "execution_count": 11,
   "metadata": {
    "collapsed": false
   },
   "outputs": [],
   "source": [
    "train_x, train_y, test_x = cnn_generate_input()\n",
    "model = build_cnn()\n",
    "classes_count = sum(train_y)\n",
    "class_weight = {0: classes_count[1], 1: classes_count[0]}\n",
    "model = train_cnn(model, np.array(train_x), np.array(train_y), len(train_x), class_weight)"
   ]
  },
  {
   "cell_type": "code",
   "execution_count": 12,
   "metadata": {
    "collapsed": false
   },
   "outputs": [
    {
     "name": "stdout",
     "output_type": "stream",
     "text": [
      "_________________________________________________________________\n",
      "Layer (type)                 Output Shape              Param #   \n",
      "=================================================================\n",
      "input (InputLayer)           (None, 47)                0         \n",
      "_________________________________________________________________\n",
      "reshape_1 (Reshape)          (None, 1, 47)             0         \n",
      "_________________________________________________________________\n",
      "conv1d_1 (Conv1D)            (None, 1, 5)              1180      \n",
      "_________________________________________________________________\n",
      "max_pooling1d_1 (MaxPooling1 (None, 1, 5)              0         \n",
      "_________________________________________________________________\n",
      "flatten_1 (Flatten)          (None, 5)                 0         \n",
      "_________________________________________________________________\n",
      "dense_1 (Dense)              (None, 128)               768       \n",
      "_________________________________________________________________\n",
      "output (Dense)               (None, 2)                 258       \n",
      "=================================================================\n",
      "Total params: 2,206\n",
      "Trainable params: 2,206\n",
      "Non-trainable params: 0\n",
      "_________________________________________________________________\n"
     ]
    }
   ],
   "source": [
    "model.summary()"
   ]
  },
  {
   "cell_type": "code",
   "execution_count": 13,
   "metadata": {
    "collapsed": false
   },
   "outputs": [
    {
     "name": "stdout",
     "output_type": "stream",
     "text": [
      "[<tf.Tensor 'input:0' shape=(?, 47) dtype=float32>]\n",
      "Tensor(\"output/Softmax:0\", shape=(?, 2), dtype=float32)\n"
     ]
    }
   ],
   "source": [
    "print(model.inputs)\n",
    "print(model.output)"
   ]
  },
  {
   "cell_type": "code",
   "execution_count": 14,
   "metadata": {
    "collapsed": false
   },
   "outputs": [
    {
     "name": "stdout",
     "output_type": "stream",
     "text": [
      "INFO:tensorflow:No assets to save.\n",
      "INFO:tensorflow:No assets to write.\n",
      "INFO:tensorflow:SavedModel written to: ../model/saved_model.pb\n"
     ]
    },
    {
     "data": {
      "text/plain": [
       "'../model/saved_model.pb'"
      ]
     },
     "execution_count": 14,
     "metadata": {},
     "output_type": "execute_result"
    }
   ],
   "source": [
    "builder = tf.saved_model.builder.SavedModelBuilder(\"../model\")\n",
    "builder.add_meta_graph_and_variables(sess, [tf.saved_model.tag_constants.SERVING])\n",
    "builder.save()"
   ]
  },
  {
   "cell_type": "code",
   "execution_count": 15,
   "metadata": {
    "collapsed": false
   },
   "outputs": [],
   "source": [
    "layers_test['model_score'] = model.predict(np.array(test_x))[:, 1]"
   ]
  },
  {
   "cell_type": "markdown",
   "metadata": {},
   "source": [
    "This is how the ROC curve for the model looks like:"
   ]
  },
  {
   "cell_type": "code",
   "execution_count": 16,
   "metadata": {
    "collapsed": false
   },
   "outputs": [
    {
     "name": "stdout",
     "output_type": "stream",
     "text": [
      "Model accuracy:  0.9729\n",
      "Model sensitivity:  0.9902\n",
      "Model specificity:  0.971\n"
     ]
    }
   ],
   "source": [
    "from sklearn.metrics import accuracy_score, confusion_matrix\n",
    "\n",
    "def benchmark(y_true, y_score):\n",
    "    y_pred = 2*(y_score > 0.5)-1\n",
    "    tn, fp, fn, tp = confusion_matrix(y_true, y_pred).ravel()\n",
    "    sensitivity = round(float(tp)/(tp+fn), 4)\n",
    "    specificity = round(float(tn)/(tn+fp), 4)\n",
    "    print \"Model accuracy: \", round(accuracy_score(y_true, y_pred), 4)\n",
    "    print \"Model sensitivity: \", sensitivity\n",
    "    print \"Model specificity: \", specificity\n",
    "    return sensitivity, specificity\n",
    "    \n",
    "sensitivity, specificity = benchmark(layers_test['score'], layers_test['model_score'])"
   ]
  },
  {
   "cell_type": "code",
   "execution_count": 17,
   "metadata": {
    "collapsed": false,
    "scrolled": false
   },
   "outputs": [
    {
     "data": {
      "image/png": "[encoded data removed]",
      "text/plain": [
       "<matplotlib.figure.Figure at 0xea363d0>"
      ]
     },
     "metadata": {},
     "output_type": "display_data"
    }
   ],
   "source": [
    "from sklearn.metrics import roc_curve, auc\n",
    "import matplotlib.pyplot as plt\n",
    "\n",
    "def get_roc_curve(score, truth, lines, x, y):\n",
    "    \"\"\"Generates ROC Curves for a given array\"\"\"\n",
    "    for color, label in lines:\n",
    "        false_positive_rate, true_positive_rate, _ = roc_curve(truth, score)\n",
    "\n",
    "        plt.plot(false_positive_rate, true_positive_rate, color, linewidth=1.2,\n",
    "                 label=('%s, AUC: %s' % (label, round(auc(false_positive_rate, true_positive_rate), 3))))\n",
    "                 \n",
    "    plt.plot(1-x, y, 'bo', label=\"Working point\")\n",
    "    \n",
    "    plt.legend(loc='lower right')\n",
    "    plt.ylabel('Sensitivity (TPR)')\n",
    "    plt.xlabel('Fall-out (TNR)')\n",
    "    \n",
    "    plt.show();\n",
    "    \n",
    "get_roc_curve(layers_test['model_score'], layers_test['score'], [('#b71c1c', 'CNN')], sensitivity, specificity)"
   ]
  },
  {
   "cell_type": "markdown",
   "metadata": {},
   "source": [
    "And this is distribution of scores:"
   ]
  },
  {
   "cell_type": "code",
   "execution_count": 18,
   "metadata": {
    "collapsed": false
   },
   "outputs": [
    {
     "data": {
      "image/png": "[encoded data removed]",
      "text/plain": [
       "<matplotlib.figure.Figure at 0x6109c50>"
      ]
     },
     "metadata": {},
     "output_type": "display_data"
    }
   ],
   "source": [
    "layers_test['model_score'].plot.hist(alpha=0.5, bins=50, logy=True)\n",
    "plt.show();"
   ]
  },
  {
   "cell_type": "code",
   "execution_count": null,
   "metadata": {
    "collapsed": true
   },
   "outputs": [],
   "source": []
  }
 ],
 "metadata": {
  "kernelspec": {
   "display_name": "Python 2",
   "language": "python",
   "name": "python2"
  },
  "language_info": {
   "codemirror_mode": {
    "name": "ipython",
    "version": 2
   },
   "file_extension": ".py",
   "mimetype": "text/x-python",
   "name": "python",
   "nbconvert_exporter": "python",
   "pygments_lexer": "ipython2",
   "version": "2.7.5"
  }
 },
 "nbformat": 4,
 "nbformat_minor": 1
}
